{
 "cells": [
  {
   "cell_type": "markdown",
   "metadata": {},
   "source": [
    "# Structure\n",
    "\n",
    "- Imports\n",
    "- Read and clean data: Load, drop irrelevant rows + columns, show data (head())\n",
    "- Explore datasets: Static and interactive plots for each dataset\n",
    "- Merge datasets\n",
    "- Analysis: Summary statistics\n",
    "- Conclusion: \n",
    "\n",
    "\n",
    "# Data\n",
    "\n",
    "Indkomst vs. middellevetid i kommunerne\n",
    "\n",
    "# Figurer\n",
    "- Interaktive figurer på kommuneniveau\n",
    "- Scatter plot af middellevetid vs. gennemsnitlig indkomst i kommunerne\n",
    "- Husk at sortere regioner og landsdele fra"
   ]
  },
  {
   "cell_type": "markdown",
   "metadata": {},
   "source": [
    "Indkomst:\n",
    "https://www.statbank.dk/statbank5a/default.asp?w=1920\n",
    "\n",
    "\n",
    "Livskvalitet:\n",
    "https://www.statbank.dk/statbank5a/SelectVarVal/saveselections.asp"
   ]
  }
 ],
 "metadata": {
  "kernelspec": {
   "display_name": "Python 3",
   "language": "python",
   "name": "python3"
  },
  "language_info": {
   "codemirror_mode": {
    "name": "ipython",
    "version": 3
   },
   "file_extension": ".py",
   "mimetype": "text/x-python",
   "name": "python",
   "nbconvert_exporter": "python",
   "pygments_lexer": "ipython3",
   "version": "3.7.4"
  }
 },
 "nbformat": 4,
 "nbformat_minor": 2
}
